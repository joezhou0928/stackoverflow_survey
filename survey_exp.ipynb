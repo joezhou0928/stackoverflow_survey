{
 "cells": [
  {
   "cell_type": "code",
   "execution_count": 1,
   "metadata": {},
   "outputs": [],
   "source": [
    "import numpy as np\n",
    "import pandas as pd\n",
    "import matplotlib.pyplot as plt\n",
    "import seaborn as sns"
   ]
  },
  {
   "cell_type": "code",
   "execution_count": 2,
   "metadata": {},
   "outputs": [],
   "source": [
    "data = pd.read_csv('survey_results_public.csv')"
   ]
  },
  {
   "cell_type": "markdown",
   "metadata": {},
   "source": [
    "## What undergraduate major can better help you become a developer?"
   ]
  },
  {
   "cell_type": "code",
   "execution_count": 12,
   "metadata": {},
   "outputs": [
    {
     "data": {
      "text/plain": [
       "Computer science, computer engineering, or software engineering                   61.931562\n",
       "Another engineering discipline (such as civil, electrical, mechanical, etc.)       9.322483\n",
       "Information systems, information technology, or system administration              7.983136\n",
       "A natural science (such as biology, chemistry, physics, etc.)                      4.323953\n",
       "Mathematics or statistics                                                          3.625846\n",
       "Web development or web design                                                      3.508187\n",
       "A business discipline (such as accounting, finance, marketing, etc.)               2.696343\n",
       "A humanities discipline (such as literature, history, philosophy, etc.)            1.974703\n",
       "A social science (such as anthropology, psychology, political science, etc.)       1.829591\n",
       "Fine arts or performing arts (such as graphic design, music, studio art, etc.)     1.421708\n",
       "I never declared a major                                                           0.888322\n",
       "A health science (such as nursing, pharmacy, radiology, etc.)                      0.494166\n",
       "Name: UndergradMajor, dtype: float64"
      ]
     },
     "execution_count": 12,
     "metadata": {},
     "output_type": "execute_result"
    }
   ],
   "source": [
    "data['UndergradMajor'].value_counts()/data[-data['UndergradMajor'].isna()].shape[0] * 100"
   ]
  },
  {
   "cell_type": "markdown",
   "metadata": {},
   "source": [
    "Out of all respondents who provided their undergraduate major information, almost 62% of them had their undergraduate major in 'computer science, computer engineering or software engineering'. Only about 9% of people came from 'Another enigneering discipline' which ranked No.2 -- 53% less than No.1. There are two possible reasons: first, many people clearly knew their interest in becoming a developer and then chose computer science as their major; second, computer science is such a specialized field that require a lot of training, which makes it difficult for people coming from other domains. So, if you have already made up your mind to become a developer, choosing a major such as computer science will never be a bad decision.\n",
    "\n",
    "Besides the survey results, I would be curious to know the number of computer science courses taken by each person, especially those who came from a non-cs major. Moreover, I would like to check the distribution of undergraduate majors in finance or marketing field. The distributions in these domains should be more balanced."
   ]
  },
  {
   "cell_type": "markdown",
   "metadata": {},
   "source": [
    "## When did most people code for the first time?"
   ]
  },
  {
   "cell_type": "code",
   "execution_count": 36,
   "metadata": {},
   "outputs": [
    {
     "data": {
      "image/png": "[encoded data removed]",
      "text/plain": [
       "<Figure size 432x288 with 1 Axes>"
      ]
     },
     "metadata": {
      "needs_background": "light"
     },
     "output_type": "display_data"
    }
   ],
   "source": [
    "sns.distplot(data['Age1stCode'].replace({'Younger than 5 years':4,'Older than 85':86})).set_title('Distribution of age when people coded for the first time');"
   ]
  },
  {
   "cell_type": "markdown",
   "metadata": {},
   "source": [
    "To make such a plot, I firstly dealt with those people who responded 'Younger than 5 years' and 'Older than 85'. I simply replaced them with 4 and 86 because these people are only a few outliers anyway and not our focus. From the distribution plot above, we can see that most people coded for the first time between 10 and 20. This makes sense because that is the time when most people went to high school and college."
   ]
  },
  {
   "cell_type": "markdown",
   "metadata": {},
   "source": [
    "## What is/will be the most popular programming language?"
   ]
  },
  {
   "cell_type": "code",
   "execution_count": 76,
   "metadata": {},
   "outputs": [],
   "source": [
    "desire = dict()\n",
    "for index,row in data[-data['LanguageDesireNextYear'].isna()].iterrows():\n",
    "    for language in row['LanguageDesireNextYear'].split(';'):\n",
    "        if language not in desire.keys():\n",
    "            desire[language] = 0\n",
    "        else:\n",
    "            desire[language] += 1"
   ]
  },
  {
   "cell_type": "code",
   "execution_count": 77,
   "metadata": {
    "collapsed": true
   },
   "outputs": [
    {
     "data": {
      "text/plain": [
       "{'C#': 13673,\n",
       " 'HTML/CSS': 20770,\n",
       " 'JavaScript': 26187,\n",
       " 'Python': 26681,\n",
       " 'Swift': 5642,\n",
       " 'Objective-C': 1524,\n",
       " 'Java': 13263,\n",
       " 'Ruby': 4183,\n",
       " 'Scala': 3464,\n",
       " 'PHP': 7105,\n",
       " 'Rust': 10562,\n",
       " 'R': 4270,\n",
       " 'SQL': 19969,\n",
       " 'Go': 12604,\n",
       " 'TypeScript': 17149,\n",
       " 'Assembly': 2468,\n",
       " 'Bash/Shell/PowerShell': 11727,\n",
       " 'C': 6090,\n",
       " 'Haskell': 2995,\n",
       " 'Perl': 1149,\n",
       " 'C++': 9755,\n",
       " 'Julia': 1660,\n",
       " 'Kotlin': 9574,\n",
       " 'Dart': 4741,\n",
       " 'VBA': 1054}"
      ]
     },
     "execution_count": 77,
     "metadata": {},
     "output_type": "execute_result"
    }
   ],
   "source": [
    "desire"
   ]
  },
  {
   "cell_type": "code",
   "execution_count": 83,
   "metadata": {},
   "outputs": [
    {
     "data": {
      "text/plain": [
       "[('Python', 26681),\n",
       " ('JavaScript', 26187),\n",
       " ('HTML/CSS', 20770),\n",
       " ('SQL', 19969),\n",
       " ('TypeScript', 17149),\n",
       " ('C#', 13673),\n",
       " ('Java', 13263),\n",
       " ('Go', 12604),\n",
       " ('Bash/Shell/PowerShell', 11727),\n",
       " ('Rust', 10562),\n",
       " ('C++', 9755),\n",
       " ('Kotlin', 9574),\n",
       " ('PHP', 7105),\n",
       " ('C', 6090),\n",
       " ('Swift', 5642),\n",
       " ('Dart', 4741),\n",
       " ('R', 4270),\n",
       " ('Ruby', 4183),\n",
       " ('Scala', 3464),\n",
       " ('Haskell', 2995),\n",
       " ('Assembly', 2468),\n",
       " ('Julia', 1660),\n",
       " ('Objective-C', 1524),\n",
       " ('Perl', 1149),\n",
       " ('VBA', 1054)]"
      ]
     },
     "execution_count": 83,
     "metadata": {},
     "output_type": "execute_result"
    }
   ],
   "source": [
    "sorted(desire.items(), key=lambda kv: kv[1], reverse=True)"
   ]
  },
  {
   "cell_type": "code",
   "execution_count": 78,
   "metadata": {},
   "outputs": [],
   "source": [
    "worked = dict()\n",
    "for index,row in data[-data['LanguageWorkedWith'].isna()].iterrows():\n",
    "    for language in row['LanguageWorkedWith'].split(';'):\n",
    "        if language not in worked.keys():\n",
    "            worked[language] = 0\n",
    "        else:\n",
    "            worked[language] += 1"
   ]
  },
  {
   "cell_type": "code",
   "execution_count": 79,
   "metadata": {
    "collapsed": true
   },
   "outputs": [
    {
     "data": {
      "text/plain": [
       "{'C#': 18040,\n",
       " 'HTML/CSS': 36180,\n",
       " 'JavaScript': 38821,\n",
       " 'Swift': 3396,\n",
       " 'Objective-C': 2339,\n",
       " 'Python': 25286,\n",
       " 'Ruby': 4045,\n",
       " 'SQL': 31412,\n",
       " 'Java': 23073,\n",
       " 'PHP': 15006,\n",
       " 'C': 12486,\n",
       " 'TypeScript': 14577,\n",
       " 'Bash/Shell/PowerShell': 18979,\n",
       " 'Kotlin': 4467,\n",
       " 'R': 3287,\n",
       " 'VBA': 3498,\n",
       " 'Perl': 1795,\n",
       " 'Scala': 2051,\n",
       " 'C++': 13706,\n",
       " 'Go': 5037,\n",
       " 'Haskell': 1221,\n",
       " 'Rust': 2928,\n",
       " 'Dart': 2279,\n",
       " 'Julia': 518,\n",
       " 'Assembly': 3552}"
      ]
     },
     "execution_count": 79,
     "metadata": {},
     "output_type": "execute_result"
    }
   ],
   "source": [
    "worked"
   ]
  },
  {
   "cell_type": "code",
   "execution_count": 82,
   "metadata": {},
   "outputs": [
    {
     "data": {
      "text/plain": [
       "[('JavaScript', 38821),\n",
       " ('HTML/CSS', 36180),\n",
       " ('SQL', 31412),\n",
       " ('Python', 25286),\n",
       " ('Java', 23073),\n",
       " ('Bash/Shell/PowerShell', 18979),\n",
       " ('C#', 18040),\n",
       " ('PHP', 15006),\n",
       " ('TypeScript', 14577),\n",
       " ('C++', 13706),\n",
       " ('C', 12486),\n",
       " ('Go', 5037),\n",
       " ('Kotlin', 4467),\n",
       " ('Ruby', 4045),\n",
       " ('Assembly', 3552),\n",
       " ('VBA', 3498),\n",
       " ('Swift', 3396),\n",
       " ('R', 3287),\n",
       " ('Rust', 2928),\n",
       " ('Objective-C', 2339),\n",
       " ('Dart', 2279),\n",
       " ('Scala', 2051),\n",
       " ('Perl', 1795),\n",
       " ('Haskell', 1221),\n",
       " ('Julia', 518)]"
      ]
     },
     "execution_count": 82,
     "metadata": {},
     "output_type": "execute_result"
    }
   ],
   "source": [
    "sorted(worked.items(), key=lambda kv: kv[1], reverse=True)"
   ]
  },
  {
   "cell_type": "markdown",
   "metadata": {},
   "source": [
    "I created two dictionaries here and sort them by values in a descending order. Keys are different programming languages and values are the number of responses mentioning this language. Python, JavaScript, HTML/CSS and SQL are the top 4 in both dictionaries! This is not surprising because I know these four languages even though I officially started coding last year. One thing to note here is Python is the only language that has higher value in the first dictionary than the second dictionary within top 4. The difference between these two dictionaries is the number of people who didn't use this language but desire to learn - the number of people who used this language but would stop using it. \n"
   ]
  },
  {
   "cell_type": "code",
   "execution_count": null,
   "metadata": {},
   "outputs": [],
   "source": []
  }
 ],
 "metadata": {
  "kernelspec": {
   "display_name": "Python 3",
   "language": "python",
   "name": "python3"
  },
  "language_info": {
   "codemirror_mode": {
    "name": "ipython",
    "version": 3
   },
   "file_extension": ".py",
   "mimetype": "text/x-python",
   "name": "python",
   "nbconvert_exporter": "python",
   "pygments_lexer": "ipython3",
   "version": "3.7.6"
  }
 },
 "nbformat": 4,
 "nbformat_minor": 4
}
